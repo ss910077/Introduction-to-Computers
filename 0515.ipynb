{
  "nbformat": 4,
  "nbformat_minor": 0,
  "metadata": {
    "colab": {
      "provenance": [],
      "authorship_tag": "ABX9TyOj1GjRHhQYjQV38kpBzNps",
      "include_colab_link": true
    },
    "kernelspec": {
      "name": "python3",
      "display_name": "Python 3"
    },
    "language_info": {
      "name": "python"
    }
  },
  "cells": [
    {
      "cell_type": "markdown",
      "metadata": {
        "id": "view-in-github",
        "colab_type": "text"
      },
      "source": [
        "<a href=\"https://colab.research.google.com/github/ss910077/Introduction-to-Computers/blob/main/0515.ipynb\" target=\"_parent\"><img src=\"https://colab.research.google.com/assets/colab-badge.svg\" alt=\"Open In Colab\"/></a>"
      ]
    },
    {
      "cell_type": "code",
      "execution_count": 1,
      "metadata": {
        "colab": {
          "base_uri": "https://localhost:8080/"
        },
        "id": "q0Qim3g6Qr8N",
        "outputId": "0ce6589c-d05a-4e9f-a492-d0f7d3330ae9"
      },
      "outputs": [
        {
          "output_type": "stream",
          "name": "stdout",
          "text": [
            "今天會下雨嗎?: 5\n",
            "請重新輸入\n"
          ]
        }
      ],
      "source": [
        "rain = input(\"今天會下雨嗎?: \")\n",
        "\n",
        "if rain.lower() == \"y\":\n",
        "    print(\"出門記得帶傘!\")\n",
        "elif rain.lower() == \"n\":\n",
        "    print(\"不用帶傘\")\n",
        "else:\n",
        "    print(\"請重新輸入\")\n"
      ]
    },
    {
      "cell_type": "code",
      "source": [
        "temperature = float(input(\"請輸入體溫: \"))\n",
        "\n",
        "if temperature >= 37.5:\n",
        "    print(\"體溫過高!\")\n",
        "elif temperature >= 37.4:\n",
        "    print(\"體溫略高!\")\n",
        "elif temperature >= 34 and temperature <= 36.9:\n",
        "    print(\"體溫正常!\")\n",
        "elif temperature < 34:\n",
        "    print(\"體溫異常，請重新量測!\")\n",
        "\n"
      ],
      "metadata": {
        "colab": {
          "base_uri": "https://localhost:8080/"
        },
        "id": "D2sejO6_RAgh",
        "outputId": "644303ad-7a24-4363-e0a6-e4bb7e44caea"
      },
      "execution_count": 2,
      "outputs": [
        {
          "output_type": "stream",
          "name": "stdout",
          "text": [
            "請輸入體溫: 4\n",
            "體溫異常，請重新量測!\n"
          ]
        }
      ]
    },
    {
      "cell_type": "code",
      "source": [
        "score = int(input(\"請輸入成績: \"))\n",
        "\n",
        "if score >= 90:\n",
        "    print(\"A\")\n",
        "elif score >= 80:\n",
        "    print(\"B\")\n",
        "elif score >= 70:\n",
        "    print(\"C\")\n",
        "elif score >= 60:\n",
        "    print(\"D\")\n",
        "else:\n",
        "    print(\"E\")\n"
      ],
      "metadata": {
        "colab": {
          "base_uri": "https://localhost:8080/"
        },
        "id": "vzpsjyyQROEH",
        "outputId": "e078facd-67ea-4f74-e0c1-9bfb152bf012"
      },
      "execution_count": 3,
      "outputs": [
        {
          "output_type": "stream",
          "name": "stdout",
          "text": [
            "請輸入成績: 60\n",
            "D\n"
          ]
        }
      ]
    },
    {
      "cell_type": "code",
      "source": [
        "month = int(input(\"請輸入月份: \"))\n",
        "\n",
        "if month in [3, 4, 5]:\n",
        "    print(f\"{month}月是春天!\")\n",
        "elif month in [6, 7, 8]:\n",
        "    print(f\"{month}月是夏天!\")\n",
        "elif month in [9, 10, 11]:\n",
        "    print(f\"{month}月是秋天!\")\n",
        "elif month in [12, 1, 2]:\n",
        "    print(f\"{month}月是冬天!\")\n",
        "else:\n",
        "    print(\"月份不在範圍內!\")\n",
        "\n"
      ],
      "metadata": {
        "colab": {
          "base_uri": "https://localhost:8080/"
        },
        "id": "xDAOKgTSRf-Q",
        "outputId": "dbdbafb7-3b76-4df9-de2b-70987da8e9b5"
      },
      "execution_count": 5,
      "outputs": [
        {
          "output_type": "stream",
          "name": "stdout",
          "text": [
            "請輸入月份: 7\n",
            "7月是夏天!\n"
          ]
        }
      ]
    },
    {
      "cell_type": "code",
      "source": [
        "income = int(input(\"請輸入今年收入淨額: \"))\n",
        "\n",
        "if income >= 2000000:\n",
        "    tax_rate = 0.3\n",
        "elif income >= 1000000:\n",
        "    tax_rate = 0.21\n",
        "elif income >= 600000:\n",
        "    tax_rate = 0.13\n",
        "elif income >= 300000:\n",
        "    tax_rate = 0.06\n",
        "else:\n",
        "    tax_rate = 0\n",
        "\n",
        "payment_amount = round(income * tax_rate, 1)\n",
        "print(f\"付稅金額為: {payment_amount}\")\n"
      ],
      "metadata": {
        "colab": {
          "base_uri": "https://localhost:8080/"
        },
        "id": "mfXmOApXSzmG",
        "outputId": "8f501524-77d9-4422-fd27-fd8f33f9b971"
      },
      "execution_count": 8,
      "outputs": [
        {
          "output_type": "stream",
          "name": "stdout",
          "text": [
            "請輸入今年收入淨額: 10000000\n",
            "付稅金額為: 3000000.0\n"
          ]
        }
      ]
    }
  ]
}