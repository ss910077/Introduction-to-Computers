{
  "nbformat": 4,
  "nbformat_minor": 0,
  "metadata": {
    "colab": {
      "provenance": [],
      "authorship_tag": "ABX9TyPq+LRZydyaxQppqs/2Zgjn",
      "include_colab_link": true
    },
    "kernelspec": {
      "name": "python3",
      "display_name": "Python 3"
    },
    "language_info": {
      "name": "python"
    }
  },
  "cells": [
    {
      "cell_type": "markdown",
      "metadata": {
        "id": "view-in-github",
        "colab_type": "text"
      },
      "source": [
        "<a href=\"https://colab.research.google.com/github/ss910077/Introduction-to-Computers/blob/main/0501.ipynb\" target=\"_parent\"><img src=\"https://colab.research.google.com/assets/colab-badge.svg\" alt=\"Open In Colab\"/></a>"
      ]
    },
    {
      "cell_type": "code",
      "execution_count": 1,
      "metadata": {
        "colab": {
          "base_uri": "https://localhost:8080/"
        },
        "id": "8GM3nt3B5Nky",
        "outputId": "029ea73c-4a60-4bea-870a-f198a59fb45c"
      },
      "outputs": [
        {
          "output_type": "stream",
          "name": "stdout",
          "text": [
            "Hi\n"
          ]
        }
      ],
      "source": [
        "print(\"Hi\")"
      ]
    },
    {
      "cell_type": "code",
      "source": [
        "print(\"0501\")"
      ],
      "metadata": {
        "colab": {
          "base_uri": "https://localhost:8080/"
        },
        "id": "TUSoQjKr7j6g",
        "outputId": "1f98dc26-7a42-48cb-feab-708103771faf"
      },
      "execution_count": 2,
      "outputs": [
        {
          "output_type": "stream",
          "name": "stdout",
          "text": [
            "0501\n"
          ]
        }
      ]
    },
    {
      "cell_type": "code",
      "source": [
        "print(\"Hello World\")"
      ],
      "metadata": {
        "colab": {
          "base_uri": "https://localhost:8080/"
        },
        "id": "P-CDwlMt7n93",
        "outputId": "cbaf0b8d-e660-410a-981b-028d0b087aa9"
      },
      "execution_count": 4,
      "outputs": [
        {
          "output_type": "stream",
          "name": "stdout",
          "text": [
            "Hello World\n"
          ]
        }
      ]
    },
    {
      "cell_type": "code",
      "source": [
        "fahrenheit = float(input(\"請輸入華氏溫度: \"))"
      ],
      "metadata": {
        "id": "dPz3kCB0-NS0"
      },
      "execution_count": null,
      "outputs": []
    },
    {
      "cell_type": "code",
      "source": [
        "celsius = (fahrenheit - 32) * 5 / 9"
      ],
      "metadata": {
        "id": "B-ga07Fq-QoU"
      },
      "execution_count": null,
      "outputs": []
    },
    {
      "cell_type": "code",
      "source": [
        "print(\"攝氏溫度為: %.1f\" % celsius)"
      ],
      "metadata": {
        "id": "JBVjYxsD-X97"
      },
      "execution_count": null,
      "outputs": []
    },
    {
      "cell_type": "code",
      "source": [
        "n=5"
      ],
      "metadata": {
        "id": "74HKGZWO-a2c"
      },
      "execution_count": null,
      "outputs": []
    },
    {
      "cell_type": "code",
      "source": [
        "total = sum(range(1, n+1))\n"
      ],
      "metadata": {
        "id": "azjSdYqy-hI1"
      },
      "execution_count": null,
      "outputs": []
    },
    {
      "cell_type": "code",
      "source": [
        "print(\"從1到%d所有整數的和為：%d\" % (n, total))\n"
      ],
      "metadata": {
        "id": "UYeiNbPm-jm7"
      },
      "execution_count": null,
      "outputs": []
    },
    {
      "cell_type": "code",
      "source": [
        "rate = 1.02\n",
        "years = 6\n",
        "principal = float(input(\"請輸入存款金額: \"))\n",
        "principal *= rate ** years\n",
        "print(\"6年後的本金為: %.8f\" % principal)\n"
      ],
      "metadata": {
        "id": "sfWWAgta_4ly"
      },
      "execution_count": null,
      "outputs": []
    }
  ]
}